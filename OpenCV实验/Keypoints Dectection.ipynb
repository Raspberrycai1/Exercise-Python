{
 "cells": [
  {
   "cell_type": "code",
   "execution_count": 1,
   "metadata": {},
   "outputs": [],
   "source": [
    "# 使用OpenCV3.x-Python检测AKAZE特征点\n",
    " \n",
    "import cv2\n",
    "import numpy\n",
    " \n",
    "def main():\n",
    "    img = cv2.imread(\"lena.png\")\n",
    "    # 检测\n",
    "    akaze = cv2.AKAZE_create()\n",
    "    keypoints = akaze.detect(img, None)\n",
    "    \n",
    "    # 显示\n",
    "    # 必须要先初始化img2\n",
    "    img2 = img.copy()\n",
    "    img2 = cv2.drawKeypoints(img, keypoints, img2, color=(0,255,0))\n",
    "    cv2.imshow('Detected AKAZE keypoints', img2)\n",
    "    cv2.waitKey(0)\n",
    "    \n",
    "if __name__ == '__main__':\n",
    "    main()"
   ]
  },
  {
   "cell_type": "code",
   "execution_count": 2,
   "metadata": {
    "scrolled": true
   },
   "outputs": [],
   "source": [
    "# from https://blog.csdn.net/sinat_36811967/article/details/84136358\n",
    "import cv2\n",
    "\n",
    "# 检测两张图片里的所有特征点：\n",
    "img1 = cv2.imread(\"WIN_20201008_13_00_24_Pro.jpg\")\n",
    "img2 = cv2.imread(\"WIN_20201008_13_00_26_Pro.jpg\")\n",
    "\n",
    "akaze = cv2.AKAZE_create()\n",
    "\n",
    "kp1,des1 = akaze.detectAndCompute(img1,None)\n",
    "kp2,des2 = akaze.detectAndCompute(img2,None)\n",
    "\n",
    "# 用Brute Force Match 匹配：选取几个最近的，（这里选2个）\n",
    "bf = cv2.BFMatcher(cv2.NORM_L2)\n",
    "matches = bf.knnMatch(des1,des2,k=2)\n",
    "\n",
    "# 优化就是限定一个条件，如第二近的点距离要大于最近点距离的两倍才算好的match；\n",
    "goodMatch = []\n",
    "for m,n in matches:\n",
    "    if m.distance < 0.50 * n.distance:\n",
    "        goodMatch.append(m)\n",
    "        \n",
    "# 最后是连线可视化\n",
    "res = cv2.drawMatches(img1, kp1, img2, kp2, goodMatch[:], None, flags=2)\n",
    "cv2.imshow('res',res)\n",
    "cv2.waitKey(0)\n",
    "cv2.destroyAllWindows()"
   ]
  },
  {
   "cell_type": "markdown",
   "metadata": {},
   "source": [
    "## DMatch类\n",
    "https://www.bbsmax.com/A/obzbr0x0zE/\n",
    "\n",
    "1、2、3不用说，是三个构造函数。接着, \n",
    "\n",
    "int queryIdx –>是**测试图像**(图像2)的特征点描述符（descriptor）的下标，同时也是描述符对应特征点（keypoint)的下标。\n",
    "\n",
    "int trainIdx –> 是**样本图像**(图像1)的特征点描述符的下标，同样也是相应的特征点的下标。\n",
    "\n",
    "int imgIdx –>当样本是多张图像的话有用。\n",
    "\n",
    "float distance –>代表这一对匹配的特征点描述符（本质是向量）的**欧氏距离**，数值越小也就说明两个特征点越相像。\n",
    "\n",
    "最后， 也就是一个小于操作符的重载，用于比较和排序。 比较的是上述的distance，当然是越小越好。"
   ]
  },
  {
   "cell_type": "code",
   "execution_count": 3,
   "metadata": {
    "scrolled": false
   },
   "outputs": [],
   "source": [
    "# AKAZE特征点检测和匹配\n",
    "def GetImageMatches(img1,img2):\n",
    "    akaze = cv2.AKAZE_create()\n",
    "    kp1, desc1 = akaze.detectAndCompute(img1,None)#检测特征点并返回特征点和特征点描述符\n",
    "    kp2, desc2 = akaze.detectAndCompute(img2,None)\n",
    "    \n",
    "    matcher = cv2.BFMatcher(crossCheck = True)#True: 两个特征点之间距离须互为最近\n",
    "    matches = matcher.match(desc1, desc2)#返回最佳匹配特征点对和之间距离(DMatch类)，共141个点对\n",
    "    \n",
    "    matches = sorted(matches, key = lambda x:x.distance)#按照距离将特征点对升序排列\n",
    "    #(float) distance 代表这一对匹配的特征点描述符（本质为向量）的欧式距离，数值越小说明两个特征点越像\n",
    "    \n",
    "    return kp1,desc1,kp2,desc2,matches"
   ]
  },
  {
   "cell_type": "code",
   "execution_count": 4,
   "metadata": {},
   "outputs": [],
   "source": [
    "# 得到2个图像中匹配点的坐标\n",
    "def GetAlignedMatches(kp1,desc1,kp2,desc2,matches):\n",
    "    # 防止万一matches 列表还没排序：\n",
    "    matches = sorted(matches, key = lambda x:x.distance) #内建函数sorted返回一个新list\n",
    "    \n",
    "    # 从matches中取回两个图像的keypoints的对应的序号\n",
    "    img1idx = np.array([m.queryIdx for m in matches]) #图像2的特征点下标，将列表转换成多维数组（方便运算）\n",
    "    img2idx = np.array([m.trainIdx for m in matches]) #图像1的特征点下标\n",
    "    \n",
    "    # 过滤掉不匹配的keypoints（matches中元素数量 > 各自点集元素数量？）\n",
    "    kp1_ = (np.array(kp1))[img1idx]\n",
    "    kp2_ = (np.array(kp2))[img2idx]\n",
    "    \n",
    "    # 取回匹配的keypoints的图像坐标\n",
    "    img1pts = np.array([kp.pt for kp in kp1_])\n",
    "    img2pts = np.array([kp.pt for kp in kp2_])\n",
    "    \n",
    "    return img1pts,img2pts,img1idx,img2idx"
   ]
  },
  {
   "cell_type": "code",
   "execution_count": null,
   "metadata": {},
   "outputs": [],
   "source": [
    "#\n",
    "def EstimateFundamentalMatrix(img1pts,img2pts):\n",
    "    #变成齐次坐标\n",
    "    if img1pts.shape[1] == 2:\n",
    "        img1pts = cv2.convertPointsToHomogeneous(img1pts)[:,0,:]"
   ]
  },
  {
   "cell_type": "code",
   "execution_count": null,
   "metadata": {},
   "outputs": [],
   "source": [
    "# \n",
    "def GetTriangulatedPts(img1pts,img2pts,K,R,t,triangulateFunc)"
   ]
  },
  {
   "cell_type": "code",
   "execution_count": 5,
   "metadata": {},
   "outputs": [
    {
     "ename": "ValueError",
     "evalue": "too many values to unpack (expected 2)",
     "output_type": "error",
     "traceback": [
      "\u001b[1;31m---------------------------------------------------------------------------\u001b[0m",
      "\u001b[1;31mValueError\u001b[0m                                Traceback (most recent call last)",
      "\u001b[1;32m<ipython-input-5-9482b3ee21f4>\u001b[0m in \u001b[0;36m<module>\u001b[1;34m\u001b[0m\n\u001b[0;32m     15\u001b[0m \u001b[0mimg1pts\u001b[0m\u001b[1;33m,\u001b[0m\u001b[0mimg2pts\u001b[0m\u001b[1;33m,\u001b[0m\u001b[0mimg1idx\u001b[0m\u001b[1;33m,\u001b[0m\u001b[0mimg2idx\u001b[0m \u001b[1;33m=\u001b[0m \u001b[0mGetAlignedMatches\u001b[0m\u001b[1;33m(\u001b[0m\u001b[0mkp1\u001b[0m\u001b[1;33m,\u001b[0m\u001b[0mdesc1\u001b[0m\u001b[1;33m,\u001b[0m\u001b[0mkp2\u001b[0m\u001b[1;33m,\u001b[0m\u001b[0mdesc2\u001b[0m\u001b[1;33m,\u001b[0m\u001b[0mmatches\u001b[0m\u001b[1;33m)\u001b[0m\u001b[1;33m\u001b[0m\u001b[1;33m\u001b[0m\u001b[0m\n\u001b[0;32m     16\u001b[0m \u001b[1;33m\u001b[0m\u001b[0m\n\u001b[1;32m---> 17\u001b[1;33m \u001b[0mimg1pts_\u001b[0m\u001b[1;33m,\u001b[0m\u001b[0mimg2pts_\u001b[0m \u001b[1;33m=\u001b[0m \u001b[0mimg1pts\u001b[0m\u001b[1;33m[\u001b[0m\u001b[1;33m:\u001b[0m\u001b[1;36m8\u001b[0m\u001b[1;33m]\u001b[0m\u001b[1;33m\u001b[0m\u001b[1;33m\u001b[0m\u001b[0m\n\u001b[0m",
      "\u001b[1;31mValueError\u001b[0m: too many values to unpack (expected 2)"
     ]
    }
   ],
   "source": [
    "import numpy as np\n",
    "import cv2\n",
    "\n",
    "#Reading two images for reference\n",
    "img1 = cv2.imread(\"WIN_20201008_13_00_24_Pro.jpg\")#检测到258个特征点\n",
    "img2 = cv2.imread(\"WIN_20201008_13_00_26_Pro.jpg\")#检测到284个特征点\n",
    "\n",
    "#Converting from BGR to RGB format\n",
    "img1 = img1[:,:,::-1]\n",
    "img2 = img2[:,:,::-1]\n",
    "\n",
    "# AKAZE特征点检测和匹配\n",
    "kp1,desc1,kp2,desc2,matches = GetImageMatches(img1,img2)\n",
    "# 对齐两个关键点向量\n",
    "img1pts,img2pts,img1idx,img2idx = GetAlignedMatches(kp1,desc1,kp2,desc2,matches)\n",
    "\n",
    "# 计算基本矩阵——8点算法\n",
    "img1pts_, img2pts_ = img1pts[:8],img2pts[:8]\n",
    "Fgt, mask = cv2.findFundamentalMat(img1pts_,img2pts_,method=cv2.FM_8POINT)\n",
    "F = sf"
   ]
  }
 ],
 "metadata": {
  "kernelspec": {
   "display_name": "Python 3",
   "language": "python",
   "name": "python3"
  },
  "language_info": {
   "codemirror_mode": {
    "name": "ipython",
    "version": 3
   },
   "file_extension": ".py",
   "mimetype": "text/x-python",
   "name": "python",
   "nbconvert_exporter": "python",
   "pygments_lexer": "ipython3",
   "version": "3.8.3"
  }
 },
 "nbformat": 4,
 "nbformat_minor": 4
}
