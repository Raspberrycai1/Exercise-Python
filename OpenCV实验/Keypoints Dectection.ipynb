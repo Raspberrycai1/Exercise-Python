{
 "cells": [
  {
   "cell_type": "code",
   "execution_count": 5,
   "metadata": {},
   "outputs": [],
   "source": [
    "# 使用OpenCV3.x-Python检测AKAZE特征点，并显示\n",
    " \n",
    "import cv2\n",
    "import numpy as np\n",
    " \n",
    "def main():\n",
    "    img = cv2.imread(\"lena.png\")\n",
    "    # 检测\n",
    "    akaze = cv2.AKAZE_create()\n",
    "    keypoints = akaze.detect(img, None)\n",
    "    \n",
    "    # 显示keypoints\n",
    "    # 必须要先初始化img2\n",
    "    img2 = img.copy()\n",
    "    img2 = cv2.drawKeypoints(img, keypoints, img2, color=(0,255,0))\n",
    "    cv2.imshow('Detected AKAZE keypoints', img2)\n",
    "    cv2.waitKey(0)\n",
    "    \n",
    "if __name__ == '__main__':\n",
    "    main()"
   ]
  },
  {
   "cell_type": "code",
   "execution_count": 2,
   "metadata": {
    "scrolled": true
   },
   "outputs": [],
   "source": [
    "# 使用akaze找到特征点，并用BFM匹配，最后连线可视化\n",
    "# from https://blog.csdn.net/sinat_36811967/article/details/84136358\n",
    "import cv2\n",
    "\n",
    "# 检测两张图片里的所有特征点：\n",
    "img1 = cv2.imread(\"WIN_20201008_13_00_24_Pro.jpg\")\n",
    "img2 = cv2.imread(\"WIN_20201008_13_00_26_Pro.jpg\")\n",
    "\n",
    "akaze = cv2.AKAZE_create()\n",
    "\n",
    "kp1,des1 = akaze.detectAndCompute(img1,None)\n",
    "kp2,des2 = akaze.detectAndCompute(img2,None)\n",
    "\n",
    "# 用Brute Force Match 匹配：选取几个最近的，（这里选2个）\n",
    "bf = cv2.BFMatcher(cv2.NORM_L2)\n",
    "matches = bf.knnMatch(des1,des2,k=2)\n",
    "\n",
    "# 优化就是限定一个条件，如第二近的点距离要大于最近点距离的两倍才算好的match；\n",
    "goodMatch = []\n",
    "for m,n in matches:\n",
    "    if m.distance < 0.50 * n.distance:\n",
    "        goodMatch.append(m)\n",
    "        \n",
    "# 最后是连线可视化\n",
    "res = cv2.drawMatches(img1, kp1, img2, kp2, goodMatch[:], None, flags=2)\n",
    "cv2.imshow('res',res)\n",
    "cv2.waitKey(0)\n",
    "cv2.destroyAllWindows()"
   ]
  }
 ],
 "metadata": {
  "kernelspec": {
   "display_name": "Python 3",
   "language": "python",
   "name": "python3"
  },
  "language_info": {
   "codemirror_mode": {
    "name": "ipython",
    "version": 3
   },
   "file_extension": ".py",
   "mimetype": "text/x-python",
   "name": "python",
   "nbconvert_exporter": "python",
   "pygments_lexer": "ipython3",
   "version": "3.8.3"
  }
 },
 "nbformat": 4,
 "nbformat_minor": 4
}
