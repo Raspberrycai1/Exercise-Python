{
 "cells": [
  {
   "cell_type": "code",
   "execution_count": 1,
   "metadata": {},
   "outputs": [],
   "source": [
    "# 使用OpenCV3.x-Python检测AKAZE特征点\n",
    " \n",
    "import cv2\n",
    "import numpy\n",
    " \n",
    "def main():\n",
    "    img = cv2.imread(\"lena.png\")\n",
    "    # 检测\n",
    "    akaze = cv2.AKAZE_create()\n",
    "    keypoints = akaze.detect(img, None)\n",
    "    \n",
    "    # 显示\n",
    "    # 必须要先初始化img2\n",
    "    img2 = img.copy()\n",
    "    img2 = cv2.drawKeypoints(img, keypoints, img2, color=(0,255,0))\n",
    "    cv2.imshow('Detected AKAZE keypoints', img2)\n",
    "    cv2.waitKey(0)\n",
    "    \n",
    "if __name__ == '__main__':\n",
    "    main()"
   ]
  },
  {
   "cell_type": "code",
   "execution_count": 2,
   "metadata": {
    "scrolled": true
   },
   "outputs": [],
   "source": [
    "# from https://blog.csdn.net/sinat_36811967/article/details/84136358\n",
    "import cv2\n",
    "\n",
    "# 检测两张图片里的所有特征点：\n",
    "img1 = cv2.imread(\"WIN_20201008_13_00_24_Pro.jpg\")\n",
    "img2 = cv2.imread(\"WIN_20201008_13_00_26_Pro.jpg\")\n",
    "\n",
    "akaze = cv2.AKAZE_create()\n",
    "\n",
    "kp1,des1 = akaze.detectAndCompute(img1,None)\n",
    "kp2,des2 = akaze.detectAndCompute(img2,None)\n",
    "\n",
    "# 用Brute Force Match 匹配：选取几个最近的，（这里选2个）\n",
    "bf = cv2.BFMatcher(cv2.NORM_L2)\n",
    "matches = bf.knnMatch(des1,des2,k=2)\n",
    "\n",
    "# 优化就是限定一个条件，如第二近的点距离要大于最近点距离的两倍才算好的match；\n",
    "goodMatch = []\n",
    "for m,n in matches:\n",
    "    if m.distance < 0.50 * n.distance:\n",
    "        goodMatch.append(m)\n",
    "        \n",
    "# 最后是连线可视化\n",
    "res = cv2.drawMatches(img1, kp1, img2, kp2, goodMatch[:], None, flags=2)\n",
    "cv2.imshow('res',res)\n",
    "cv2.waitKey(0)\n",
    "cv2.destroyAllWindows()"
   ]
  },
  {
   "cell_type": "markdown",
   "metadata": {},
   "source": [
    "## DMatch类\n",
    "https://www.bbsmax.com/A/obzbr0x0zE/\n",
    "\n",
    "1、2、3不用说，是三个构造函数。接着, \n",
    "\n",
    "int queryIdx –>是**测试图像**(图像2)的特征点描述符（descriptor）的下标，同时也是描述符对应特征点（keypoint)的下标。\n",
    "\n",
    "int trainIdx –> 是**样本图像**(图像1)的特征点描述符的下标，同样也是相应的特征点的下标。\n",
    "\n",
    "int imgIdx –>当样本是多张图像的话有用。\n",
    "\n",
    "float distance –>代表这一对匹配的特征点描述符（本质是向量）的**欧氏距离**，数值越小也就说明两个特征点越相像。\n",
    "\n",
    "最后， 也就是一个小于操作符的重载，用于比较和排序。 比较的是上述的distance，当然是越小越好。"
   ]
  },
  {
   "cell_type": "code",
   "execution_count": 3,
   "metadata": {
    "scrolled": false
   },
   "outputs": [],
   "source": [
    "# AKAZE特征点检测和匹配\n",
    "def GetImageMatches(img1,img2):\n",
    "    akaze = cv2.AKAZE_create()\n",
    "    kp1, desc1 = akaze.detectAndCompute(img1,None)#检测特征点并返回特征点和特征点描述符\n",
    "    kp2, desc2 = akaze.detectAndCompute(img2,None)\n",
    "    \n",
    "    matcher = cv2.BFMatcher(crossCheck = True)#True: 两个特征点之间距离须互为最近\n",
    "    matches = matcher.match(desc1, desc2)#返回最佳匹配特征点对和之间距离(DMatch类)，共141个点对\n",
    "    \n",
    "    matches = sorted(matches, key = lambda x:x.distance)#按照距离将特征点对升序排列\n",
    "    #(float) distance 代表这一对匹配的特征点描述符（本质为向量）的欧式距离，数值越小说明两个特征点越像\n",
    "    \n",
    "    return kp1,desc1,kp2,desc2,matches"
   ]
  },
  {
   "cell_type": "code",
   "execution_count": 4,
   "metadata": {},
   "outputs": [],
   "source": [
    "# 得到2个图像中匹配点的坐标\n",
    "def GetAlignedMatches(kp1,desc1,kp2,desc2,matches):\n",
    "    # 防止万一matches 列表还没排序：\n",
    "    matches = sorted(matches, key = lambda x:x.distance) #内建函数sorted返回一个新list\n",
    "    \n",
    "    # 从matches中取回两个图像的keypoints的对应的序号\n",
    "    img1idx = np.array([m.queryIdx for m in matches]) #图像2的特征点下标，将列表转换成多维数组（方便运算）\n",
    "    img2idx = np.array([m.trainIdx for m in matches]) #图像1的特征点下标\n",
    "    \n",
    "    # 过滤掉不匹配的keypoints（matches中元素数量 > 各自点集元素数量？）\n",
    "    kp1_ = (np.array(kp1))[img1idx]\n",
    "    kp2_ = (np.array(kp2))[img2idx]\n",
    "    \n",
    "    # 取回匹配的keypoints的图像坐标\n",
    "    img1pts = np.array([kp.pt for kp in kp1_])\n",
    "    img2pts = np.array([kp.pt for kp in kp2_])\n",
    "    \n",
    "    return img1pts,img2pts,img1idx,img2idx"
   ]
  },
  {
   "cell_type": "code",
   "execution_count": 83,
   "metadata": {},
   "outputs": [],
   "source": [
    "#\n",
    "def EstimateFundamentalMatrix(img1pts,img2pts):\n",
    "    #如果不是就变成齐次坐标\n",
    "    if img1pts.shape[1] == 2: #如果图像1特征点有2个坐标\n",
    "        img1pts = cv2.convertPointsToHomogeneous(img1pts)[:,0,:]#img1pts变成齐次坐标，增加一维，成为3维坐标\n",
    "        img2pts = cv2.convertPointsToHomogeneous(img2pts)[:,0,:]\n",
    "        #转换结果.shape = (141,1,3),加[:,0,:]的作用是在第二维上减一维，shape变成(141,3)，加一个0减一维；如果0换成None，就是在该维度上加一维\n",
    "        \n",
    "    A = np.zeros((img1pts.shape[0],9)) #定义一个 图像1第1维数x9 的全0矩阵A\n",
    "    \n",
    "    img1pts_ = img1pts.repeat(3,axis=1)#axis=1,沿着x轴复制3次（列数增加[111222333]），得到 img1pts_.shape=(141,9）；若缺省axis,变成一个行向量。\n",
    "    img2pts_ = np.tile(img2pts,(1,3))#列重复3次[123 123 123]，得到 img2pts_.shape=(141,9)\n",
    "    \n",
    "    A = img1pts_ * img2pts_\n",
    "    \n",
    "    u,s,v = np.linalg.svd(A) #线性代数.奇异值分解\n",
    "    F = v[-1,:].reshape((3,3),order='F')#取v的最后一行reshape，按优先列读写\n",
    "    \n",
    "    u,s,v = np.linalg.svd(F)\n",
    "    F = u.dot(np.diag(s).dot(v))#矩阵乘法\n",
    "    \n",
    "    F = F / F[-1,-1]\n",
    "    \n",
    "    return F"
   ]
  },
  {
   "cell_type": "code",
   "execution_count": 86,
   "metadata": {},
   "outputs": [
    {
     "name": "stdout",
     "output_type": "stream",
     "text": [
      "[[-3.30430932e-05  1.65266617e-04 -2.20578988e-01]\n",
      " [-3.79856677e-04  4.49468915e-04  2.07005902e-01]\n",
      " [ 2.72279152e-01 -3.39971336e-01  1.00000000e+00]]\n"
     ]
    }
   ],
   "source": [
    "import numpy as np\n",
    "import cv2\n",
    "\n",
    "#Reading two images for reference\n",
    "img1 = cv2.imread(\"hat_L.jpg\")#检测到258个特征点\n",
    "img2 = cv2.imread(\"hat_R.jpg\")#检测到284个特征点\n",
    "\n",
    "#Converting from BGR to RGB format\n",
    "img1 = img1[:,:,::-1]\n",
    "img2 = img2[:,:,::-1]\n",
    "\n",
    "# AKAZE特征点检测和匹配\n",
    "kp1,desc1,kp2,desc2,matches = GetImageMatches(img1,img2)\n",
    "# 对齐两个关键点向量\n",
    "img1pts,img2pts,img1idx,img2idx = GetAlignedMatches(kp1,desc1,kp2,desc2,matches)\n",
    "\n",
    "# 计算基本矩阵——8点算法\n",
    "img1pts_, img2pts_ = img1pts[:8],img2pts[:8]\n",
    "Fgt, mask = cv2.findFundamentalMat(img1pts_,img2pts_,method=cv2.FM_8POINT)\n",
    "F = EstimateFundamentalMatrix(img1pts_,img2pts_)\n",
    "\n",
    "print(F)"
   ]
  },
  {
   "cell_type": "code",
   "execution_count": 74,
   "metadata": {},
   "outputs": [
    {
     "name": "stdout",
     "output_type": "stream",
     "text": [
      "[[1 2]\n",
      " [3 4]]\n"
     ]
    },
    {
     "ename": "ValueError",
     "evalue": "operands could not be broadcast together with shape (4,) (2,)",
     "output_type": "error",
     "traceback": [
      "\u001b[1;31m---------------------------------------------------------------------------\u001b[0m",
      "\u001b[1;31mValueError\u001b[0m                                Traceback (most recent call last)",
      "\u001b[1;32m<ipython-input-74-5f1f8e4dce21>\u001b[0m in \u001b[0;36m<module>\u001b[1;34m\u001b[0m\n\u001b[0;32m      1\u001b[0m \u001b[0mc\u001b[0m \u001b[1;33m=\u001b[0m \u001b[0mnumpy\u001b[0m\u001b[1;33m.\u001b[0m\u001b[0marray\u001b[0m\u001b[1;33m(\u001b[0m\u001b[1;33m(\u001b[0m\u001b[1;33m[\u001b[0m\u001b[1;36m1\u001b[0m\u001b[1;33m,\u001b[0m\u001b[1;36m2\u001b[0m\u001b[1;33m]\u001b[0m\u001b[1;33m,\u001b[0m\u001b[1;33m[\u001b[0m\u001b[1;36m3\u001b[0m\u001b[1;33m,\u001b[0m\u001b[1;36m4\u001b[0m\u001b[1;33m]\u001b[0m\u001b[1;33m)\u001b[0m\u001b[1;33m)\u001b[0m\u001b[1;33m\u001b[0m\u001b[1;33m\u001b[0m\u001b[0m\n\u001b[0;32m      2\u001b[0m \u001b[0mprint\u001b[0m\u001b[1;33m(\u001b[0m\u001b[0mc\u001b[0m\u001b[1;33m)\u001b[0m\u001b[1;33m\u001b[0m\u001b[1;33m\u001b[0m\u001b[0m\n\u001b[1;32m----> 3\u001b[1;33m \u001b[0mnumpy\u001b[0m\u001b[1;33m.\u001b[0m\u001b[0mrepeat\u001b[0m\u001b[1;33m(\u001b[0m\u001b[0mc\u001b[0m\u001b[1;33m,\u001b[0m\u001b[1;33m[\u001b[0m\u001b[1;36m2\u001b[0m\u001b[1;33m,\u001b[0m\u001b[1;36m3\u001b[0m\u001b[1;33m]\u001b[0m\u001b[1;33m,\u001b[0m\u001b[1;32mNone\u001b[0m\u001b[1;33m)\u001b[0m\u001b[1;33m\u001b[0m\u001b[1;33m\u001b[0m\u001b[0m\n\u001b[0m",
      "\u001b[1;32m<__array_function__ internals>\u001b[0m in \u001b[0;36mrepeat\u001b[1;34m(*args, **kwargs)\u001b[0m\n",
      "\u001b[1;32mC:\\ProgramData\\Anaconda3\\lib\\site-packages\\numpy\\core\\fromnumeric.py\u001b[0m in \u001b[0;36mrepeat\u001b[1;34m(a, repeats, axis)\u001b[0m\n\u001b[0;32m    480\u001b[0m \u001b[1;33m\u001b[0m\u001b[0m\n\u001b[0;32m    481\u001b[0m     \"\"\"\n\u001b[1;32m--> 482\u001b[1;33m     \u001b[1;32mreturn\u001b[0m \u001b[0m_wrapfunc\u001b[0m\u001b[1;33m(\u001b[0m\u001b[0ma\u001b[0m\u001b[1;33m,\u001b[0m \u001b[1;34m'repeat'\u001b[0m\u001b[1;33m,\u001b[0m \u001b[0mrepeats\u001b[0m\u001b[1;33m,\u001b[0m \u001b[0maxis\u001b[0m\u001b[1;33m=\u001b[0m\u001b[0maxis\u001b[0m\u001b[1;33m)\u001b[0m\u001b[1;33m\u001b[0m\u001b[1;33m\u001b[0m\u001b[0m\n\u001b[0m\u001b[0;32m    483\u001b[0m \u001b[1;33m\u001b[0m\u001b[0m\n\u001b[0;32m    484\u001b[0m \u001b[1;33m\u001b[0m\u001b[0m\n",
      "\u001b[1;32mC:\\ProgramData\\Anaconda3\\lib\\site-packages\\numpy\\core\\fromnumeric.py\u001b[0m in \u001b[0;36m_wrapfunc\u001b[1;34m(obj, method, *args, **kwds)\u001b[0m\n\u001b[0;32m     59\u001b[0m \u001b[1;33m\u001b[0m\u001b[0m\n\u001b[0;32m     60\u001b[0m     \u001b[1;32mtry\u001b[0m\u001b[1;33m:\u001b[0m\u001b[1;33m\u001b[0m\u001b[1;33m\u001b[0m\u001b[0m\n\u001b[1;32m---> 61\u001b[1;33m         \u001b[1;32mreturn\u001b[0m \u001b[0mbound\u001b[0m\u001b[1;33m(\u001b[0m\u001b[1;33m*\u001b[0m\u001b[0margs\u001b[0m\u001b[1;33m,\u001b[0m \u001b[1;33m**\u001b[0m\u001b[0mkwds\u001b[0m\u001b[1;33m)\u001b[0m\u001b[1;33m\u001b[0m\u001b[1;33m\u001b[0m\u001b[0m\n\u001b[0m\u001b[0;32m     62\u001b[0m     \u001b[1;32mexcept\u001b[0m \u001b[0mTypeError\u001b[0m\u001b[1;33m:\u001b[0m\u001b[1;33m\u001b[0m\u001b[1;33m\u001b[0m\u001b[0m\n\u001b[0;32m     63\u001b[0m         \u001b[1;31m# A TypeError occurs if the object does have such a method in its\u001b[0m\u001b[1;33m\u001b[0m\u001b[1;33m\u001b[0m\u001b[1;33m\u001b[0m\u001b[0m\n",
      "\u001b[1;31mValueError\u001b[0m: operands could not be broadcast together with shape (4,) (2,)"
     ]
    }
   ],
   "source": [
    "c = numpy.array(([1,2],[3,4]))\n",
    "print(c)\n",
    "numpy.repeat(c,[2,3],None)"
   ]
  },
  {
   "cell_type": "code",
   "execution_count": null,
   "metadata": {},
   "outputs": [],
   "source": []
  }
 ],
 "metadata": {
  "kernelspec": {
   "display_name": "Python 3",
   "language": "python",
   "name": "python3"
  },
  "language_info": {
   "codemirror_mode": {
    "name": "ipython",
    "version": 3
   },
   "file_extension": ".py",
   "mimetype": "text/x-python",
   "name": "python",
   "nbconvert_exporter": "python",
   "pygments_lexer": "ipython3",
   "version": "3.8.3"
  }
 },
 "nbformat": 4,
 "nbformat_minor": 4
}
