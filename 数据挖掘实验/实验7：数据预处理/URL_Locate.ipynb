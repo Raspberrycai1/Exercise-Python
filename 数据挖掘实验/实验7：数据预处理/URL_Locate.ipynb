{
 "cells": [
  {
   "cell_type": "code",
   "execution_count": 1,
   "metadata": {},
   "outputs": [],
   "source": [
    "import jieba\n",
    "import re\n",
    "import pandas as pd\n",
    "import csv\n",
    "filename='C:/Users/MY/Desktop/数据挖掘实验/实验7：数据预处理/新疆餐馆.xlsx'\n",
    "dataSet=pd.read_excel(filename)"
   ]
  },
  {
   "cell_type": "code",
   "execution_count": 2,
   "metadata": {
    "scrolled": false
   },
   "outputs": [
    {
     "name": "stdout",
     "output_type": "stream",
     "text": [
      "问题在于: //you.ctrip.com\n",
      "{'urumqi': 1501, 'aletai': 1689, 'yili': 1417, 'buerjin': 350, 'tulufan': 1216, 'kashi': 1425, 'bayinguoleng': 1419, 'changji': 2827, 'kelamayi': 1473, 'akesu': 1381, 'hami': 1396, 'kuerle': 1439, 'boertala': 1382, 'jimusaer': 197, 'hetian': 1383, 'shihezi': 1423, 'fuwen': 291, 'fukang': 454, 'yining': 1399, 'kuche': 501, 'shanshan': 717, 'zhaosu': 97, 'habahe': 112, 'kashenfu': 1305, 'kezilesukeerkezi': 210, 'tashikuergan': 34, 'tacheng': 1596, 'balikunhasake': 53, 'wulumujixian': 437, 'ruoqiang': 44, 'xinyuan': 369, 'kuitun': 1141, 'bole': 1003, 'qiemo': 80, 'luntai': 194, 'hejing': 258, 'baicheng': 120, 'yiwu': 21, 'yecheng': 73, 'alaer': 268, 'shawan': 649, 'beitun': 259, 'nileke': 38, 'atushi': 124, 'tekesi': 57, 'yanqi': 510, 'hetubi': 309, 'akesushi': 1412, 'wujiaju': 321, 'wusu': 575, 'huocheng': 226, 'yuli': 76, 'jinghe': 377, 'chabuchaer': 278, 'qitai': 944, 'heshuo': 178, 'shache': 251, 'gongliu': 81, 'manasi': 276, 'bachu': 160, 'wensu': 47, 'tuokexun': 100, 'yumin': 38, 'bohu': 16, 'fuhai': 71, 'tumushuke': 62, 'huoerguosi': 36, 'emin': 271, 'awati': 56, 'tuoli': 28, 'xinhe': 26, 'shaya': 84, 'jimunai': 28, 'qinghe': 28, 'maigaiti': 23, 'shule': 33, 'jiashi': 19, 'zepu': 27, 'luopu': 16, 'wenquan': 5, 'pishan': 11, 'minfeng': 5, 'aketao': 3, 'yutian': 15, 'keping': 3, 'yuepuhu': 3, 'yingjisha': 11, 'shufu': 8, 'aheqi': 4, 'wuqia': 2, 'wushi': 10, 'kokdala': 6}\n",
      "92\n"
     ]
    }
   ],
   "source": [
    "urlSet=dataSet['url']\n",
    "locatDict={}\n",
    "for row in urlSet:\n",
    "    try:\n",
    "        piece=re.findall(r\"food/(.+?)/\",row)\n",
    "        location=re.sub('\\d+',\"\",piece[0])\n",
    "    except IndexError:\n",
    "        print(\"问题在于:\",row)\n",
    "        continue\n",
    "    if location not in locatDict.keys():\n",
    "        locatDict[location]=0\n",
    "    locatDict[location]+=1\n",
    "print(locatDict)\n",
    "print(len(locatDict))"
   ]
  },
  {
   "cell_type": "code",
   "execution_count": 3,
   "metadata": {},
   "outputs": [
    {
     "name": "stdout",
     "output_type": "stream",
     "text": [
      "92\n"
     ]
    }
   ],
   "source": [
    "parishDict={'urumqi': \"乌鲁木齐\", 'aletai': \"阿勒泰\", 'yili': \"伊犁\", 'buerjin': \"布尔津\", 'tulufan': \"吐鲁番\", 'kashi': \"喀什\",'bayinguoleng': \"巴音郭楞\",  'changji':\"昌吉\", \"kelamayi\": \"克拉玛依\", \"akesu\": \"阿克苏\", 'hami': \"哈密\", 'kuerle': \"库尔勒\", 'boertala': \"博尔塔拉\", 'jimusaer': \"吉木萨尔\", 'hetian': \"和田\", 'shihezi': \"石河子\", 'fuwen': \"富蕴\", 'fukang': \"阜康\", 'yining': \"伊宁\", 'kuche': \"库车\", 'shanshan': \"鄯善\", 'zhaosu': \"昭苏\", 'habahe': \"哈巴河\", 'kashenfu': \"卡申府\", 'kezilesukeerkezi': \"克孜勒苏柯尔克孜\", 'tashikuergan': \"塔什库尔干\", 'tacheng': \"塔城\", 'balikunhasake': \"巴里坤哈萨克\", 'wulumujixian': \"乌鲁木齐县\", 'ruoqiang': \"若羌\", 'xinyuan': \"新源\", 'kuitun': \"奎屯\", 'bole': \"博乐\", 'qiemo': \"且末\", 'luntai': \"轮台\", 'hejing': \"和静\", 'baicheng': \"拜城\", 'yiwu': \"伊吾\", 'yecheng': \"叶城\", 'alaer': \"阿拉尔\", 'shawan': \"沙湾\", 'beitun': \"北屯\", 'nileke': \"尼勒克\", 'atushi': \"阿图什\", 'tekesi': \"特克斯\", 'yanqi': \"焉耆\", 'hetubi': \"呼图壁\", 'akesushi': \"阿克苏市\", 'wujiaju': \"五家渠\", 'wusu': \"乌苏\", 'huocheng': \"霍城\", 'yuli': \"尉犁\", 'jinghe': \"精河\", 'chabuchaer': \"察布车\", 'qitai': \"奇台\", 'heshuo': \"和硕\", 'shache': \"沙车\", 'gongliu': \"巩留\", 'manasi': \"玛纳斯\", 'bachu': \"巴楚\", 'wensu': \"温宿\", 'tuokexun': \"托克逊\", 'yumin': \"裕民\", 'bohu': \"博湖\", 'fuhai': \"福海\", 'tumushuke': \"图木舒克\", 'huoerguosi':'霍尔果斯', 'emin': \"额敏\", 'awati': \"阿瓦提\", 'tuoli': \"托里\", 'xinhe': \"新和\", 'shaya': \"沙雅\", 'jimunai': \"吉木乃\", 'qinghe': \"青河\", 'maigaiti': \"麦盖提\", 'shule': \"疏勒\", 'jiashi': \"伽师\", 'zepu': \"泽普\", 'luopu': \"洛浦\", 'wenquan': \"温泉\", 'pishan': \"皮山\", 'minfeng': \"民丰\", 'aketao': \"阿克陶\", 'yutian': \"于田\", 'keping': \"柯坪\", 'yuepuhu': \"岳普湖\", 'yingjisha': '英吉沙', 'shufu': \"疏附\",'aheqi': \"阿合奇\", \"wuqia\":\"乌恰\", 'wushi': \"乌什\", 'kokdala': \"可克达拉\"} \n",
    "print(len(parishDict))"
   ]
  },
  {
   "cell_type": "code",
   "execution_count": 4,
   "metadata": {},
   "outputs": [],
   "source": [
    "#中文行政区划\n",
    "zhBelongDict={\"乌鲁木齐市\":(\"乌鲁木齐\",\"水磨沟区\",\"天山区\",\"沙依巴克区\",\"新市区\",\"头屯河区\",\"达坂城区\",\"米东区\",\"乌鲁木齐县\"),\n",
    "\"克拉玛依市\":\"克拉玛依、独山子区、白碱滩区、乌尔禾区\",\n",
    "\"吐鲁番市\":\"高昌区、鄯善、托克逊\",\n",
    "\"哈密市\":\"伊州区、伊吾、巴里坤哈萨克\", \n",
    "\"阿克苏地区\":\"阿克苏、温宿、库车、沙雅、新和、拜城、乌什、阿瓦提、柯坪\",\n",
    "\"喀什地区\":\"喀什、疏附、疏勒、英吉沙、泽普、莎车、叶城、麦盖提、岳普湖、伽师、巴楚、塔什库尔干塔吉\", \n",
    "\"和田地区\":\"和田、墨玉、皮山、洛浦、策勒、于田、民丰\",\n",
    "\"昌吉回族自治州\":\"昌吉、阜康、呼图壁、玛纳斯、奇台、吉木萨尔、木垒哈萨克\" ,   \n",
    "\"博尔塔拉蒙古自治州\":\"博乐、阿拉山口、精河、温泉\",\n",
    "\"巴音郭楞蒙古自治州\":\"库尔勒、焉耆、轮台、尉犁、若羌、且末、和静、和硕、博湖\", \n",
    "\"克孜勒苏柯尔克孜自治州\":\"阿图什、阿克陶、阿合奇、乌恰\" ,\n",
    "\"伊犁哈萨克自治州\":\"伊宁、奎屯、霍尔果斯、尼勒克、霍城、巩留、新源、昭苏、特克斯、察布查尔锡伯自治县\",\n",
    "\"塔城地区\":\"塔城、乌苏、额敏、沙湾、托里、裕民、和布克赛尔蒙古自治县\",\n",
    "\"阿勒泰地区\":\"阿勒泰、布尔津、富蕴、福海、哈巴河、青河、吉木乃\" }"
   ]
  },
  {
   "cell_type": "code",
   "execution_count": 5,
   "metadata": {},
   "outputs": [
    {
     "name": "stdout",
     "output_type": "stream",
     "text": [
      "问题在于: //you.ctrip.com\n"
     ]
    }
   ],
   "source": [
    "#构造一个列表，存放每一条记录所属的市，再把这一列添加到dataframe中\n",
    "parishList=[] #存放县名\n",
    "distrList=[] #存放市名\n",
    "for rowIdx in range(len(dataSet)):\n",
    "    try:\n",
    "        row=dataSet.loc[rowIdx,:]#把每一行取出来,返回值类型是Series,引用时用方括号\n",
    "        piece=re.findall(r\"food/(.+?)/\",row[0])#正则表达式，取出URL的文件名部分\n",
    "        location=re.sub('\\d+',\"\",piece[0])#去掉数字，只要字符串\n",
    "        city=parishDict[location] #找出英文名location对应的中文名city\n",
    "        parishList.append(city)  #顺便把县名存到列表里\n",
    "        for key in zhBelongDict.keys(): #在字典中找对应的市\n",
    "            if city in zhBelongDict[key]: #检查此地名是否在字典的value里存在\n",
    "                district=key\n",
    "                break #找到就停止循环\n",
    "        distrList.append(district) #把市名存放到列表里\n",
    "    except IndexError: #有的URL是残缺的，不能处理\n",
    "        print(\"问题在于:\",row[0])\n",
    "        parishList.append(\"\")\n",
    "        distrList.append(\"\")  #就在列表里存为空字符串\n",
    "        continue"
   ]
  },
  {
   "cell_type": "code",
   "execution_count": null,
   "metadata": {},
   "outputs": [],
   "source": [
    "print(len(parishList))\n",
    "print(len(distrList))"
   ]
  },
  {
   "cell_type": "code",
   "execution_count": null,
   "metadata": {},
   "outputs": [],
   "source": [
    "#把parishList作为一列，添加到dataSet\n",
    "dataSet[\"县\"]=parishList\n",
    "dataSet[\"市\"]=distrList\n",
    "dataSet.head()"
   ]
  },
  {
   "cell_type": "code",
   "execution_count": null,
   "metadata": {},
   "outputs": [],
   "source": [
    "#把dataSet储存到csv文件中\n",
    "#dataSet.to_csv(\"District.csv\", encoding='utf_8_sig')#存成csv,用excel打开,一行数据全放在第一单元格了\n",
    "#把dataSet储存到xlsx文件中\n",
    "dataSet.to_excel('District.xlsx',encoding='utf_8_sig',index=False)"
   ]
  },
  {
   "cell_type": "code",
   "execution_count": 6,
   "metadata": {},
   "outputs": [
    {
     "name": "stdout",
     "output_type": "stream",
     "text": [
      "吴佳米粉         35\n",
      "啊臻味道米粉       32\n",
      "四十九丸子汤       26\n",
      "疯狂烤翅         25\n",
      "黄焖鸡米饭        24\n",
      "儿子娃娃椒麻鸡      22\n",
      "杭州小笼包        21\n",
      "海楼抓饭         21\n",
      "乌孜古凉皮        20\n",
      "润口肥牛         19\n",
      "张大师鸭爪爪特色火锅   19\n",
      "小郡肝串串香       18\n",
      "名客佳大鸡排       17\n",
      "贝克汉堡         16\n",
      "N多寿司         16\n",
      "麦多馅饼         16\n",
      "柴窝堡辣子鸡       16\n",
      "倒字鸡排         15\n",
      "卓记米粉         15\n",
      "顺水鱼馆         14\n",
      "正新鸡排         13\n",
      "绝味鸭脖         13\n",
      "奉姐冒菜         13\n",
      "香辣擀面皮        13\n",
      "馋私猫卤猪蹄       12\n",
      "重庆小面         12\n",
      "粮全其美手抓饼      12\n",
      "粒粒香抓饭        12\n",
      "百富烤霸         12\n",
      "东北饺子馆        12\n"
     ]
    }
   ],
   "source": [
    "#用jieba统计词频\n",
    "canteenStr=list(dataSet[\"餐馆名\"])\n",
    "#words=jieba.lcut(str(canteenStr),cut_all=True)\n",
    "words=jieba.cut_for_search(canteenStr)\n",
    "counts={}\n",
    "for word in canteenStr:\n",
    "    if(type(word)==float):\n",
    "        continue\n",
    "    elif len(word)==1: #排除单个字符串的分词结果\n",
    "        continue\n",
    "    else:\n",
    "        counts[word]=counts.get(word,0)+1\n",
    "items=list(counts.items())\n",
    "items.sort(key=lambda x:x[1],reverse=True)\n",
    "for i in range(30): #输出排序前30的单词\n",
    "    word,count=items[i]\n",
    "    print(\"{0:<10}{1:>5}\".format(word,count))"
   ]
  },
  {
   "cell_type": "code",
   "execution_count": null,
   "metadata": {},
   "outputs": [],
   "source": [
    "#本想给每一行后面添加“县名”，但是每次把一行提出来再修改，改变的只是一个单独的变量，\n",
    "#并不是直接修改的DF，最后还需要再拼成一个DF\n",
    "for rowIdx in range(len(dataSet)):\n",
    "    try:\n",
    "        row=dataSet.loc[rowIdx,:]\n",
    "        piece=re.findall(r\"food/(.+?)/\",row[0])\n",
    "        location=re.sub('\\d+',\"\",piece[0])\n",
    "        row=row.append(pd.Series([location],index=[\"Parish\"]))#在一行后面添加一个值\n",
    "        df_parish.loc[-1]=row\n",
    "        df_parish.index=df_parish.index+1\n",
    "    except IndexError:\n",
    "        print(\"问题在于:\",row[0])\n",
    "        continue"
   ]
  },
  {
   "cell_type": "code",
   "execution_count": null,
   "metadata": {},
   "outputs": [],
   "source": [
    "#from pandas import Series\n",
    "print(type(dataSet[2:2]))\n",
    "x=dataSet.loc[1,:]\n",
    "x=x.append(pd.Series(['乌鲁木齐'],index=[\"parish\"]))\n",
    "x=x.append(pd.Series(['乌鲁木齐市'],index=[\"city\"]))\n",
    "print(x)"
   ]
  },
  {
   "cell_type": "code",
   "execution_count": null,
   "metadata": {},
   "outputs": [],
   "source": [
    "zhKey={}#中文地名\n",
    "for engKey in locatDict.keys():\n",
    "    zhKey[parishDict[engKey]]=locatDict[engKey]\n",
    "print(zhKey)"
   ]
  },
  {
   "cell_type": "code",
   "execution_count": null,
   "metadata": {},
   "outputs": [],
   "source": [
    "#把字典写到csv文件里\n",
    "Name_Num={'乌鲁木齐': 1501, '阿勒泰': 1689, '伊犁': 1417, '布尔津': 350, '吐鲁番': 1216, '喀什': 1425, '巴音郭楞': 1419, '昌吉': 2827, '克拉玛依': 1473, '阿克苏': 1381, '哈密': 1396, '库尔勒': 1439, '博尔塔拉': 1382, '吉木萨尔': 197, '和田': 1383, '石河子': 1423, '富蕴': 291, '阜康': 454, '伊宁': 1399, '库车': 501, '鄯善': 717, '昭苏': 97, '哈巴河': 112, '卡申府': 1305, '克孜勒苏柯尔克孜': 210, '塔什库尔干': 34, '塔城': 1596, '巴里坤哈萨克': 53, '乌鲁木齐县': 437, '若羌': 44, '新源': 369, '奎屯': 1141, '博乐': 1003, '且末': 80, '轮台': 194, '和静': 258, '拜城': 120, '伊吾': 21, '叶城': 73, '阿拉尔': 268, '沙湾': 649, '北屯': 259, '尼勒克': 38, '阿图什': 124, '特克斯': 57, '焉耆': 510, '呼图壁': 309, '阿克苏市': 1412, '五家渠': 321, '乌苏': 575, '霍城': 226, '尉犁': 76, '精河': 377, '察布车': 278, '奇台': 944, '和硕': 178, '沙车': 251, '巩留': 81, '玛纳斯': 276, '巴楚': 160, '温宿': 47, '托克逊': 100, '裕民': 38, '博湖': 16, '福海': 71, '图木舒克': 62, '霍尔果斯': 36, '额敏': 271, '阿瓦提': 56, '托里': 28, '新和': 26, '沙雅': 84, '吉木乃': 28, '青河': 28, '麦盖提': 23, '疏勒': 33, '伽师': 19, '泽普': 27, '洛浦': 16, '温泉': 5, '皮山': 11, '民丰': 5, '阿克陶': 3, '于田': 15, '柯坪': 3, '岳普湖': 3, '英吉沙': 11, '疏附': 8, '阿合奇': 4, '乌恰': 2, '乌什': 10, '可克达拉': 6}\n",
    "import csv\n",
    "with open('Name_Num.csv', 'w') as f: \n",
    "    w = csv.DictWriter(f, Name_Num.keys())\n",
    "    w.writeheader()\n",
    "    w.writerow(Name_Num)"
   ]
  },
  {
   "cell_type": "code",
   "execution_count": null,
   "metadata": {},
   "outputs": [],
   "source": [
    "#用Matplotlib画柱形图\n",
    "import numpy as np\n",
    "import pandas as pd\n",
    "import matplotlib.pyplot as plt\n",
    "%matplotlib notebook\n",
    "plt.rcParams['font.sans-serif'] = ['FangSong'] \n",
    "plt.rcParams['axes.unicode_minus'] = False \n",
    "#上面最后的两行代码是为了能在jupyter中显示中文。现在我想输出下面这个Series的柱状图：\n",
    "name = list(Name_Num.keys())\n",
    "number = list(Name_Num.values())\n",
    "Wages = pd.Series(number, index=name)\n",
    "plt.xticks(rotation=90) #横坐标字体如何倾斜45度\n",
    "plt.bar(name, number)\n",
    "plt.title('餐馆数量分布')\n",
    "plt.ylabel('餐馆数量')\n",
    "plt.xlabel('县')\n",
    "#在每个柱形上显示每个县餐厅数量\n",
    "for xx, yy in zip(name,number):\n",
    "    plt.text(xx, yy+0.1, str(yy), ha='center')"
   ]
  }
 ],
 "metadata": {
  "kernelspec": {
   "display_name": "Python 3",
   "language": "python",
   "name": "python3"
  },
  "language_info": {
   "codemirror_mode": {
    "name": "ipython",
    "version": 3
   },
   "file_extension": ".py",
   "mimetype": "text/x-python",
   "name": "python",
   "nbconvert_exporter": "python",
   "pygments_lexer": "ipython3",
   "version": "3.7.1"
  }
 },
 "nbformat": 4,
 "nbformat_minor": 2
}
