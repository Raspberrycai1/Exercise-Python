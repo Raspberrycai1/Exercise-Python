{
 "cells": [
  {
   "cell_type": "code",
   "execution_count": null,
   "metadata": {},
   "outputs": [],
   "source": [
    "import numpy as np\n",
    "def calc_left_k_mat(k): #获得左侧矩阵\n",
    "    k_mat=[]\n",
    "    for i in range(k+1):\n",
    "        now_line=[]\n",
    "        for j in range(k+1):\n",
    "            now_line.append(j+i)\n",
    "        k_mat.append(now_line)\n",
    "    return k_mat"
   ]
  },
  {
   "cell_type": "code",
   "execution_count": null,
   "metadata": {
    "scrolled": true
   },
   "outputs": [],
   "source": [
    "def calc_right_k_mat(k): #计算右侧矩阵\n",
    "    k_mat = []\n",
    "    for i in range(k + 1):\n",
    "        k_mat.append([i, i+1])\n",
    "    return k_mat"
   ]
  },
  {
   "cell_type": "code",
   "execution_count": null,
   "metadata": {},
   "outputs": [],
   "source": [
    "def pow_k(x,k):  #计算x列表中的k次方和\n",
    "    sum=0\n",
    "    for i in x:\n",
    "        sum+=i**k\n",
    "    return sum"
   ]
  },
  {
   "cell_type": "code",
   "execution_count": null,
   "metadata": {},
   "outputs": [],
   "source": [
    "def get_left_mat_with_x(k_mat,k): #将左侧矩阵运算得到左侧新的矩阵\n",
    "    left_mat=[]\n",
    "    for kl in k_mat:\n",
    "        now_data=[]\n",
    "        for k in kl:\n",
    "            now_data.append(pow_k(x,k))\n",
    "        left_mat.append(now_data)\n",
    "    return left_mat"
   ]
  },
  {
   "cell_type": "code",
   "execution_count": null,
   "metadata": {},
   "outputs": [],
   "source": [
    "def get_right_mat_with(right_k_mat): #将右侧矩阵运算得到左侧新的矩阵\n",
    "    right_mat = []\n",
    "    for i in range(len(right_k_mat)):\n",
    "        sum = 0\n",
    "        for xL, yL in zip(x, y):\n",
    "            a = (xL ** right_k_mat[i][0]) * (yL ** right_k_mat[i][1])\n",
    "            sum += a\n",
    "        right_mat.append(sum)\n",
    "    return right_mat"
   ]
  },
  {
   "cell_type": "code",
   "execution_count": 36,
   "metadata": {},
   "outputs": [
    {
     "name": "stdout",
     "output_type": "stream",
     "text": [
      "[[12.01208791]\n",
      " [-4.35934066]\n",
      " [ 0.82527473]]\n"
     ]
    }
   ],
   "source": [
    "import numpy as np\n",
    "import pandas as pd\n",
    "#data_set = pd.read_csv(\"C:/Users/MY/Desktop/数据挖掘实验/实验3：最小二乘法/data_set.csv\",engine='python')\n",
    "\n",
    "x_list=np.reshape(np.array([[1,3,-7],[2,5,4],[-3,-7,-2],[1,4,-12]]),(4,3))\n",
    "y_list=[-7.5,5.2,-7.5,-15]\n",
    "trans_x=np.transpose(x_list)#矩阵转置\n",
    "#print(y_list)\n",
    "#print(trans_x)\n",
    "mat_mul=np.mat(trans_x@x_list) #X矩阵与其转置矩阵叉乘\n",
    "inverse=mat_mul.I #求矩阵的逆\n",
    "B=np.mat(inverse@trans_x@y_list)\n",
    "#print(B)\n"
   ]
  },
  {
   "cell_type": "code",
   "execution_count": null,
   "metadata": {},
   "outputs": [],
   "source": [
    "for i in len"
   ]
  }
 ],
 "metadata": {
  "kernelspec": {
   "display_name": "Python 3",
   "language": "python",
   "name": "python3"
  },
  "language_info": {
   "codemirror_mode": {
    "name": "ipython",
    "version": 3
   },
   "file_extension": ".py",
   "mimetype": "text/x-python",
   "name": "python",
   "nbconvert_exporter": "python",
   "pygments_lexer": "ipython3",
   "version": "3.7.1"
  }
 },
 "nbformat": 4,
 "nbformat_minor": 2
}
