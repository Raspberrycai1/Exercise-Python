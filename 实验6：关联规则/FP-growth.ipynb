{
 "cells": [
  {
   "cell_type": "markdown",
   "metadata": {},
   "source": [
    "#建立项头表:\n",
    "<p>第一次扫描数据,得到所有频繁1项集的计数.然后删除支持度低于阈值的项,将1项频繁集放入项头表,并按照支持度将许排列.第二次扫描数据,将读到的数据剔除非频繁1项集,并按照支持度降序排列."
   ]
  },
  {
   "cell_type": "code",
   "execution_count": 4,
   "metadata": {
    "scrolled": true
   },
   "outputs": [
    {
     "name": "stdout",
     "output_type": "stream",
     "text": [
      "{('面包',): 8, ('牛奶',): 8, ('茶',): 7, ('尿布',): 6, ('啤酒',): 5}\n",
      "{}\n",
      "{('茶',), ('尿布',), ('面包',), ('牛奶',), ('啤酒',)}\n"
     ]
    }
   ],
   "source": [
    "import operator\n",
    "import copy\n",
    "Dataset=[({'面包'},{'牛奶'},{'茶'}), \n",
    "         ({'面包'},{'尿布'},{'啤酒'},{'茶'}),\n",
    "         ({'牛奶'},{'尿布'},{'啤酒'}),\n",
    "         ({'面包'},{'牛奶'},{'尿布'},{'茶'}),\n",
    "         ({'面包'},{'尿布'},{'牛奶'}),\n",
    "         ({'面包'},{'牛奶'},{'啤酒'},{'尿布'},{'茶'}),\n",
    "         ({'啤酒'},{'牛奶'},{'茶'}),\n",
    "         ({'面包'},{'茶'}),\n",
    "         ({'面包'},{'尿布'},{'牛奶'},{'啤酒'},{'茶'}),\n",
    "         ({'面包'},{'牛奶'})]\n",
    "#统计支持度个数,并得到频繁1项集\n",
    "frequent1_dict={} #商品字典：5种商品\n",
    "non_frequent1_dict={}\n",
    "goods_dict={}\n",
    "for trade_set in Dataset: #统计每种商品的支持度\n",
    "    for thing in trade_set:\n",
    "        if tuple(thing) not in goods_dict.keys():\n",
    "            goods_dict[tuple(thing)]=0\n",
    "        goods_dict[tuple(thing)]+=1\n",
    "\n",
    "for item in goods_dict.items():\n",
    "    if (item[1]>0.35*len(Dataset)):\n",
    "        frequent1_dict[item[0]]=item[1] #大于支持度的项集放入频繁列表\n",
    "    else: \n",
    "        non_frequent1_dict[item[0]]=item[1]#把达不到minsup的项集放到非频繁项集里\n",
    "print(frequent1_dict)\n",
    "print(non_frequent1_dict)\n",
    "freqItemSet=set(frequent1_dict)\n",
    "print(freqItemSet)\n"
   ]
  },
  {
   "cell_type": "code",
   "execution_count": 5,
   "metadata": {},
   "outputs": [
    {
     "name": "stdout",
     "output_type": "stream",
     "text": [
      " root   0\n",
      "[['面包', '牛奶', '茶'], ['面包', '茶', '尿布', '啤酒'], ['牛奶', '尿布', '啤酒'], ['面包', '牛奶', '茶', '尿布'], ['面包', '牛奶', '尿布'], ['面包', '牛奶', '茶', '尿布', '啤酒'], ['牛奶', '茶', '啤酒'], ['面包', '茶'], ['面包', '牛奶', '茶', '尿布', '啤酒'], ['面包', '牛奶']]\n",
      " Null Set   1\n"
     ]
    }
   ],
   "source": [
    "#FP树结点\n",
    "class treeNode:\n",
    "    def __init__(self, nameValue, numOccur, parentNode):\n",
    "        self.name=nameValue     #存放节点名字,在构造时初始化为给定值\n",
    "        self.count=numOccur      #用于计数出现次数,在构造时初始化为给定值\n",
    "        self.nodeLink = None     #用于连接相似结点,指向下一个相似结点的指针\n",
    "        self.parent = parentNode #指向父结点的指针\n",
    "        self.children = {}       #存放孩子结点,指向子结点的字典,以子结点的元素名称为\n",
    "        #为键,指向子结点的指针为值,初始化为空字典\n",
    "\n",
    "    def inc(self, numOccur):#增加结点的出现次数\n",
    "        self.count += numOccur\n",
    "\n",
    "    def disp(self, ind=1):#仅用于输出调试\n",
    "        print( ''*ind, self.name, ' ', self.count)\n",
    "        for child in self.children.values():\n",
    "            child.disp(ind+1)\n",
    "            \n",
    "    #更新头结点\n",
    "    #nodeLink指向树中该元素项的每一个实例\n",
    "    #从头指针表的nodeLink开始,一直沿着nodeLink直到到达链表末尾\n",
    "    def updateHeader(self,nodeToTest,targetNode):\n",
    "        while(nodeToTest.nodeLink!=None):#当测试结点后面还有结点时\n",
    "            nodeToTest=nodeToTest.nodeLink#移动到下一个结点上\n",
    "        nodeToTest.nodeLink=targetNode\n",
    "\n",
    "    #更新FP树,把结点加入树里\n",
    "    def updateFPtree(self,items,inTree,headerTable,count):\n",
    "        #判断项集的第一个结点是否已作为根的子结点\n",
    "        if item[0] in inTree.children:#如果是就加上去,计数增加1\n",
    "            inTree.children[items[0]].inc(count)\n",
    "        else: #如果不是根的孩子,就增加分枝\n",
    "            inTree.children[items[0]]=treeNode(items[0],count,inTree)\n",
    "            # 更新相应频繁项集的链表，往后添加\n",
    "            if headerTable[items[0]][1] == None:#没有就新建\n",
    "                headerTable[items[0]][1] = inTree.children[items[0]]\n",
    "            else:\n",
    "                updateHeader(headerTable[items[0]][1], inTree.children[items[0]])\n",
    "        # 递归\n",
    "        if len(items) > 1:\n",
    "            updateFPtree(items[1::], inTree.children[items[0]], headerTable, count)\n",
    "\n",
    "    def createTree(self,dataSet,minSup=1):\n",
    "        \"创建FP树\"\n",
    "        #第一次遍历数据集，创建头指针表\n",
    "        headerTable={}\n",
    "        for trade in dataSet:\n",
    "            for item in trade:\n",
    "                headerTable[item]=headerTable.get(item,0)+dataSet[trade]\n",
    "        #移除不满足最小支持度的元素项\n",
    "        for k in headerTable.keys():\n",
    "            if headerTable[k]<minSup:\n",
    "                del(headerTable[k])\n",
    "        #增加一个数据项，用于存放指向相似元素项指针\n",
    "        for key in headerTable:\n",
    "            headerTable[key]=[headerTable[key],None]\n",
    "        retTree=treeNode('Null Set',1,None)#根节点\n",
    "        #第二次遍历数据集，创建FP树\n",
    "        for tradeSet,count in dataSet.items():\n",
    "            localD={}#对于一个项集tradeSet，记录其中每个元素项的全局频率，用于排序\n",
    "            for item in tradeSet:\n",
    "                if item in freqItemSet:\n",
    "                    localD[item]=headerTable[item][0]#注意这个[0]，因为之前加过一个数据项\n",
    "            if(len(localD)>0):\n",
    "                orderedItems=[v[0] for v in sorted(localD.items(),key=lambda p:p[1],reverse=True)]\n",
    "                updateTree(orderedItems,retTree,headerTable,count)#更新FP树\n",
    "        return retTree,headerTable\n",
    "    \n",
    "    def loadSimpData(self):\n",
    "        simpDat=[['面包', '牛奶', '茶'],\n",
    "                 ['面包', '茶', '尿布', '啤酒'],\n",
    "                 ['牛奶', '尿布', '啤酒'],\n",
    "                 ['面包', '牛奶', '茶', '尿布'],\n",
    "                 ['面包', '牛奶', '尿布'],\n",
    "                 ['面包', '牛奶', '茶', '尿布', '啤酒'],\n",
    "                 ['牛奶', '茶', '啤酒'],\n",
    "                 ['面包', '茶'],\n",
    "                 ['面包', '牛奶', '茶', '尿布', '啤酒'],\n",
    "                 ['面包', '牛奶']]\n",
    "        return simpDat\n",
    "\n",
    "    def createInitSet(self,dataSet):\n",
    "        retDict={}\n",
    "        for trans in dataSet:\n",
    "            retDict[frozenset(trans)] = 1\n",
    "        return retDict\n",
    "    \n",
    "#实例化类\n",
    "fpGrowth=treeNode('root',0,None)\n",
    "fpGrowth.disp()\n",
    "simpData=fpGrowth.loadSimpData()\n",
    "print(simpData)\n",
    "initSet=fpGrowth.createInitSet(simpData)\n",
    "myFPtree,myHeaderTab=fpGrowth.createTree(initSet,1)\n",
    "myFPtree.disp()"
   ]
  },
  {
   "cell_type": "code",
   "execution_count": null,
   "metadata": {},
   "outputs": [],
   "source": [
    "#第二次扫描数据，对于每条数据剔除非频繁1项集，并按照支持度降序排列。\n",
    "sortRule={'面包':0,'牛奶':1,'茶':2,'尿布':3,'啤酒':4}\n",
    "DataSorted=[]\n",
    "for affair in Dataset:#对于数据集中的每一条事务\n",
    "    goods_list=[]#元组变成列表才能索引\n",
    "    for non_freq_good in non_frequent1_dict:#删除非频繁1项集\n",
    "        if non_freq_good in affair:\n",
    "            affair.remove(non_freq_good)\n",
    "    for good in affair:\n",
    "        goods_list.append(list(good)[0])\n",
    "    goods_list.sort(key=lambda x:sortRule[x])\n",
    "    DataSorted.append(goods_list)\n",
    "    print(goods_list)"
   ]
  },
  {
   "cell_type": "markdown",
   "metadata": {},
   "source": [
    "构造FP树。从根节点∅开始，将过滤并排序后的样本一个个加入树中，若FP树不存在现有元素则添加分支，若存在则增加相应的值"
   ]
  }
 ],
 "metadata": {
  "kernelspec": {
   "display_name": "Python 3",
   "language": "python",
   "name": "python3"
  },
  "language_info": {
   "codemirror_mode": {
    "name": "ipython",
    "version": 3
   },
   "file_extension": ".py",
   "mimetype": "text/x-python",
   "name": "python",
   "nbconvert_exporter": "python",
   "pygments_lexer": "ipython3",
   "version": "3.7.1"
  }
 },
 "nbformat": 4,
 "nbformat_minor": 2
}
