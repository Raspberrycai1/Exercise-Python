{
 "cells": [
  {
   "cell_type": "code",
   "execution_count": 2,
   "metadata": {
    "scrolled": true
   },
   "outputs": [
    {
     "name": "stdout",
     "output_type": "stream",
     "text": [
      "{'江': 1, '南': 2, '春': 1, '千': 1, '里': 1, '莺': 1, '啼': 1, '绿': 1, '映': 1, '红': 1, '水': 1, '村': 1, '山': 1, '郭': 1, '酒': 1, '旗': 1, '风': 1, '朝': 1, '四': 1, '百': 1, '八': 1, '十': 1, '寺': 1, '多': 1, '少': 1, '楼': 1, '台': 1, '烟': 1, '雨': 1, '中': 1}\n",
      "30\n",
      "{'spring': 1, 'on': 1, 'the': 3, 'southern': 2, 'rivershore': 1, 'orioles': 1, 'sing': 1, 'for': 1, 'miles': 1, 'amid': 1, 'red': 1, 'blooms': 1, 'and': 3, 'green': 1, 'trees,': 1, 'by': 1, 'hills': 1, 'rills': 1, 'wine': 1, 'shop': 1, 'streamers': 1, 'wave': 1, 'in': 2, 'breeze.': 1, 'four': 1, 'hundred': 1, 'eighty': 1, 'splendid': 1, 'temples': 1, 'still': 1, 'remain,': 1, 'of': 1, 'dynasties': 1, 'mist': 1, 'rain': 1}\n",
      "35\n",
      "41\n"
     ]
    }
   ],
   "source": [
    "from math import log\n",
    "chinese_txt=\"江南春千里莺啼绿映红水村山郭酒旗风南朝四百八十寺多少楼台烟雨中\"\n",
    "english_txt=\"Spring on the Southern Rivershore Orioles sing for miles \\\n",
    "amid red blooms and green trees, By hills and rills wine shop streamers wave in the breeze. \\\n",
    "Four hundred eighty splendid temples still remain, Of Southern Dynasties in the mist and rain.\"\n",
    "\n",
    "#构建字典统计字数\n",
    "chinese_characters={}\n",
    "count_char=len(chinese_txt)\n",
    "for character in chinese_txt:\n",
    "    if character not in chinese_characters.keys():\n",
    "        chinese_characters[character]=0\n",
    "    chinese_characters[character]+=1\n",
    "print(chinese_characters)\n",
    "print(len(chinese_characters))\n",
    "\n",
    "english_words={}\n",
    "space_idx=0 #英文以空格分隔单词\n",
    "count_words=0\n",
    "for word_idx in range(len(english_txt)):\n",
    "    if english_txt[word_idx]==\" \"or word_idx==(len(english_txt)-1):\n",
    "        count_words+=1\n",
    "        if english_txt[space_idx:word_idx].strip().lower() not in english_words.keys():\n",
    "            english_words[english_txt[space_idx:word_idx].strip().lower()]=0\n",
    "        english_words[english_txt[space_idx:word_idx].strip().lower()]+=1\n",
    "        space_idx=word_idx\n",
    "print(english_words)\n",
    "print(len(english_words))\n",
    "print(count_words)"
   ]
  },
  {
   "cell_type": "code",
   "execution_count": 3,
   "metadata": {},
   "outputs": [
    {
     "name": "stderr",
     "output_type": "stream",
     "text": [
      "Building prefix dict from the default dictionary ...\n",
      "Loading model from cache C:\\Users\\MY\\AppData\\Local\\Temp\\jieba.cache\n",
      "Loading model cost 2.698 seconds.\n",
      "Prefix dict has been built succesfully.\n"
     ]
    },
    {
     "data": {
      "text/plain": [
       "['江南春',\n",
       " '千里',\n",
       " '莺啼',\n",
       " '绿映',\n",
       " '红水',\n",
       " '村山',\n",
       " '郭',\n",
       " '酒旗',\n",
       " '风',\n",
       " '南朝',\n",
       " '四百八十',\n",
       " '寺',\n",
       " '多少',\n",
       " '楼台',\n",
       " '烟雨',\n",
       " '中']"
      ]
     },
     "execution_count": 3,
     "metadata": {},
     "output_type": "execute_result"
    }
   ],
   "source": [
    "import jieba\n",
    "jieba.lcut(chinese_txt)"
   ]
  },
  {
   "cell_type": "code",
   "execution_count": 23,
   "metadata": {},
   "outputs": [
    {
     "name": "stdout",
     "output_type": "stream",
     "text": [
      "4.889680181354619\n",
      "31\n",
      "{'spring': 5.357552004618084, 'on': 5.357552004618084, 'the': 3.772589503896928, 'southern': 4.357552004618084, 'rivershore': 5.357552004618084, 'orioles': 5.357552004618084, 'sing': 5.357552004618084, 'for': 5.357552004618084, 'miles': 5.357552004618084, 'amid': 5.357552004618084, 'red': 5.357552004618084, 'blooms': 5.357552004618084, 'and': 3.772589503896928, 'green': 5.357552004618084, 'trees,': 5.357552004618084, 'by': 5.357552004618084, 'hills': 5.357552004618084, 'rills': 5.357552004618084, 'wine': 5.357552004618084, 'shop': 5.357552004618084, 'streamers': 5.357552004618084, 'wave': 5.357552004618084, 'in': 4.357552004618084, 'breeze.': 5.357552004618084, 'four': 5.357552004618084, 'hundred': 5.357552004618084, 'eighty': 5.357552004618084, 'splendid': 5.357552004618084, 'temples': 5.357552004618084, 'still': 5.357552004618084, 'remain,': 5.357552004618084, 'of': 5.357552004618084, 'dynasties': 5.357552004618084, 'mist': 5.357552004618084, 'rain': 5.357552004618084}\n",
      "5.028045297195474\n",
      "41\n",
      "4.447424272199768\n"
     ]
    }
   ],
   "source": [
    "#计算每个汉字的熵\n",
    "info_chars={}\n",
    "ent_chars=0\n",
    "count_chars=len(chinese_txt)\n",
    "for key in chinese_characters:\n",
    "    if key not in info_chars.keys():\n",
    "        pc=chinese_characters[key]/count_chars\n",
    "        info_chars[key]=-log(pc,2)\n",
    "        ent_chars+=pc*info_chars[key]\n",
    "print(ent_chars)\n",
    "print(count_chars)\n",
    "\n",
    "\n",
    "#计算每个单词的熵\n",
    "info_words={}\n",
    "ent_words=0\n",
    "for key in english_words:\n",
    "    if key not in info_words.keys():\n",
    "        pw=english_words[key]/count_words\n",
    "        info_words[key]=-log(pw,2)\n",
    "        ent_words+=pw*info_words[key]\n",
    "print(info_words)\n",
    "print(ent_words)\n",
    "print(count_words)\n",
    "#平均每个单词的自信息量\n",
    "print(sum(info_words.values())/count_words)"
   ]
  },
  {
   "cell_type": "code",
   "execution_count": 17,
   "metadata": {},
   "outputs": [
    {
     "name": "stdout",
     "output_type": "stream",
     "text": [
      "{'江': 2, '南': 3, '春': 1, '辽': 1, '阔': 1, '的': 3, '到': 1, '处': 1, '莺': 1, '歌': 1, '燕': 1, '舞': 1, '绿': 1, '树': 1, '红': 1, '花': 1, '相': 1, '映': 1, '小': 2, '山': 1, '河': 1, '旁': 1, '酒': 1, '铺': 1, '彩': 1, '带': 1, '在': 2, '微': 1, '风': 1, '中': 2, '摇': 1, '曳': 1, '四': 1, '百': 1, '八': 1, '十': 1, '座': 1, '辉': 1, '煌': 1, '朝': 1, '庙': 1, '宇': 1, '仍': 1, '雾': 1, '霭': 1, '雨': 1, '留': 1, '存': 1}\n",
      "48\n",
      "3.565288281715746\n"
     ]
    }
   ],
   "source": [
    "translation=\"江南春辽阔的江南到处莺歌燕舞绿树红花相映小山小河旁酒铺的彩带在微风中摇曳四百八十座辉煌的南朝庙宇仍在雾霭雨中留存\"\n",
    "\n",
    "trans_characters={}\n",
    "count_char=len(translation)\n",
    "for character in translation:\n",
    "    if character not in trans_characters.keys():\n",
    "        trans_characters[character]=0\n",
    "    trans_characters[character]+=1\n",
    "print(trans_characters)\n",
    "print(len(trans_characters))\n",
    "\n",
    "#计算每个汉字的熵\n",
    "info_trans={}\n",
    "ent_trans=0\n",
    "count_trans=len(trans_characters)\n",
    "for key in chinese_characters:\n",
    "    if key not in info_trans.keys():\n",
    "        pt=chinese_characters[key]/count_trans\n",
    "        info_trans[key]=-log(pt,2)\n",
    "        ent_trans+=pt*info_trans[key]\n",
    "#print(info_trans)\n",
    "print(ent_trans)\n"
   ]
  },
  {
   "cell_type": "code",
   "execution_count": 11,
   "metadata": {
    "scrolled": false
   },
   "outputs": [
    {
     "name": "stdout",
     "output_type": "stream",
     "text": [
      "{'s': 20, 'p': 4, 'r': 19, 'i': 18, 'n': 17, 'g': 4, 'o': 12, 't': 12, 'h': 10, 'e': 28, 'u': 4, 'v': 2, 'l': 11, 'f': 3, 'm': 7, 'a': 9, 'd': 10, 'b': 3, 'y': 3, 'w': 2, 'z': 1}\n",
      "199\n",
      "3.981963703498697\n"
     ]
    }
   ],
   "source": [
    "#统计英文字母\n",
    "count_letters=0\n",
    "letters_dict={}\n",
    "for letter in english_txt.replace(\" \",\"\").replace(\",\",\"\").replace(\".\",\"\").lower():\n",
    "    count_letters+=1\n",
    "    if letter not in letters_dict.keys():\n",
    "        letters_dict[letter]=0\n",
    "    letters_dict[letter]+=1\n",
    "print(letters_dict)\n",
    "print(count_letters)\n",
    "\n",
    "#计算每个字母的熵\n",
    "info_letters={} #每个字母的自信息量\n",
    "ent_letters=0\n",
    "for key in letters_dict:\n",
    "    if key not in info_letters.keys():\n",
    "        pl=letters_dict[key]/count_letters\n",
    "        info_letters[key]=-log(pl,2)\n",
    "        ent_letters+=pl*info_letters[key]\n",
    "print(ent_letters)\n"
   ]
  }
 ],
 "metadata": {
  "kernelspec": {
   "display_name": "Python 3",
   "language": "python",
   "name": "python3"
  },
  "language_info": {
   "codemirror_mode": {
    "name": "ipython",
    "version": 3
   },
   "file_extension": ".py",
   "mimetype": "text/x-python",
   "name": "python",
   "nbconvert_exporter": "python",
   "pygments_lexer": "ipython3",
   "version": "3.7.1"
  }
 },
 "nbformat": 4,
 "nbformat_minor": 2
}
